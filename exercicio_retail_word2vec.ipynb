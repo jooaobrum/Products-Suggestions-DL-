{
  "nbformat": 4,
  "nbformat_minor": 0,
  "metadata": {
    "colab": {
      "name": "exercicio_retail_word2vec.ipynb",
      "provenance": [],
      "collapsed_sections": [],
      "toc_visible": true
    },
    "kernelspec": {
      "name": "python3",
      "display_name": "Python 3"
    },
    "accelerator": "GPU"
  },
  "cells": [
    {
      "cell_type": "markdown",
      "metadata": {
        "id": "M1-cMb5T5jd8",
        "colab_type": "text"
      },
      "source": [
        "# Exercício de Sugestão de Compras utilizando Word2Vec\n",
        "### Aluno: João Paulo Brum\n",
        "### Disciplina: Deep Learning"
      ]
    },
    {
      "cell_type": "code",
      "metadata": {
        "id": "_uZMqOafnsdE",
        "colab_type": "code",
        "colab": {}
      },
      "source": [
        "import warnings\n",
        "warnings.filterwarnings(\"ignore\")"
      ],
      "execution_count": 1,
      "outputs": []
    },
    {
      "cell_type": "markdown",
      "metadata": {
        "id": "KEHafkstxrSx",
        "colab_type": "text"
      },
      "source": [
        "# Passo 1: Baixar Dados\n",
        "\n",
        "Aqui usaremos uma planilha do Microsoft Excel com dados de compras de usuários em um sistema de varejo. O nome do arquivo é `retail.xlsx`."
      ]
    },
    {
      "cell_type": "code",
      "metadata": {
        "id": "y9J6QmO3xJ3t",
        "colab_type": "code",
        "colab": {
          "base_uri": "https://localhost:8080/",
          "height": 90
        },
        "outputId": "ecab78b2-6880-47df-887f-514f28a3437f"
      },
      "source": [
        "!gdown https://drive.google.com/uc?id=1NK-2z0l-qTplDJJ2SHpTVBGRP3zWAK-n"
      ],
      "execution_count": 2,
      "outputs": [
        {
          "output_type": "stream",
          "text": [
            "Downloading...\n",
            "From: https://drive.google.com/uc?id=1NK-2z0l-qTplDJJ2SHpTVBGRP3zWAK-n\n",
            "To: /content/retail.xlsx\n",
            "23.7MB [00:00, 57.2MB/s]\n"
          ],
          "name": "stdout"
        }
      ]
    },
    {
      "cell_type": "markdown",
      "metadata": {
        "id": "XFZELJRCyLut",
        "colab_type": "text"
      },
      "source": [
        "Usaremos a biblioteca `pandas` para fazer a leitura dos dados"
      ]
    },
    {
      "cell_type": "code",
      "metadata": {
        "id": "A_HXamB_yLIi",
        "colab_type": "code",
        "colab": {}
      },
      "source": [
        "import pandas as pd"
      ],
      "execution_count": 3,
      "outputs": []
    },
    {
      "cell_type": "markdown",
      "metadata": {
        "id": "qQqCAb-3yZRN",
        "colab_type": "text"
      },
      "source": [
        "Aqui fazemos a leitura dos dados para um objeto `DataFrame` do `pandas`."
      ]
    },
    {
      "cell_type": "code",
      "metadata": {
        "id": "33NLQ2NgyciL",
        "colab_type": "code",
        "colab": {}
      },
      "source": [
        "# Esta linha de código pode demorar cerca de 1 min para rodar\n",
        "df = pd.read_excel('retail.xlsx')"
      ],
      "execution_count": 4,
      "outputs": []
    },
    {
      "cell_type": "markdown",
      "metadata": {
        "id": "0FLMkSqUyrWa",
        "colab_type": "text"
      },
      "source": [
        "Agora podemos dar uma observada nos dados para entender como estão organizados."
      ]
    },
    {
      "cell_type": "code",
      "metadata": {
        "id": "TE4oGyTqyqdT",
        "colab_type": "code",
        "colab": {
          "base_uri": "https://localhost:8080/",
          "height": 319
        },
        "outputId": "e1beb8ff-dcfb-43f3-d5e4-dd11a25562f4"
      },
      "source": [
        "df.head()"
      ],
      "execution_count": 5,
      "outputs": [
        {
          "output_type": "execute_result",
          "data": {
            "text/html": [
              "<div>\n",
              "<style scoped>\n",
              "    .dataframe tbody tr th:only-of-type {\n",
              "        vertical-align: middle;\n",
              "    }\n",
              "\n",
              "    .dataframe tbody tr th {\n",
              "        vertical-align: top;\n",
              "    }\n",
              "\n",
              "    .dataframe thead th {\n",
              "        text-align: right;\n",
              "    }\n",
              "</style>\n",
              "<table border=\"1\" class=\"dataframe\">\n",
              "  <thead>\n",
              "    <tr style=\"text-align: right;\">\n",
              "      <th></th>\n",
              "      <th>InvoiceNo</th>\n",
              "      <th>StockCode</th>\n",
              "      <th>Description</th>\n",
              "      <th>Quantity</th>\n",
              "      <th>InvoiceDate</th>\n",
              "      <th>UnitPrice</th>\n",
              "      <th>CustomerID</th>\n",
              "      <th>Country</th>\n",
              "    </tr>\n",
              "  </thead>\n",
              "  <tbody>\n",
              "    <tr>\n",
              "      <th>0</th>\n",
              "      <td>536365</td>\n",
              "      <td>85123A</td>\n",
              "      <td>WHITE HANGING HEART T-LIGHT HOLDER</td>\n",
              "      <td>6</td>\n",
              "      <td>2010-12-01 08:26:00</td>\n",
              "      <td>2.55</td>\n",
              "      <td>17850.0</td>\n",
              "      <td>United Kingdom</td>\n",
              "    </tr>\n",
              "    <tr>\n",
              "      <th>1</th>\n",
              "      <td>536365</td>\n",
              "      <td>71053</td>\n",
              "      <td>WHITE METAL LANTERN</td>\n",
              "      <td>6</td>\n",
              "      <td>2010-12-01 08:26:00</td>\n",
              "      <td>3.39</td>\n",
              "      <td>17850.0</td>\n",
              "      <td>United Kingdom</td>\n",
              "    </tr>\n",
              "    <tr>\n",
              "      <th>2</th>\n",
              "      <td>536365</td>\n",
              "      <td>84406B</td>\n",
              "      <td>CREAM CUPID HEARTS COAT HANGER</td>\n",
              "      <td>8</td>\n",
              "      <td>2010-12-01 08:26:00</td>\n",
              "      <td>2.75</td>\n",
              "      <td>17850.0</td>\n",
              "      <td>United Kingdom</td>\n",
              "    </tr>\n",
              "    <tr>\n",
              "      <th>3</th>\n",
              "      <td>536365</td>\n",
              "      <td>84029G</td>\n",
              "      <td>KNITTED UNION FLAG HOT WATER BOTTLE</td>\n",
              "      <td>6</td>\n",
              "      <td>2010-12-01 08:26:00</td>\n",
              "      <td>3.39</td>\n",
              "      <td>17850.0</td>\n",
              "      <td>United Kingdom</td>\n",
              "    </tr>\n",
              "    <tr>\n",
              "      <th>4</th>\n",
              "      <td>536365</td>\n",
              "      <td>84029E</td>\n",
              "      <td>RED WOOLLY HOTTIE WHITE HEART.</td>\n",
              "      <td>6</td>\n",
              "      <td>2010-12-01 08:26:00</td>\n",
              "      <td>3.39</td>\n",
              "      <td>17850.0</td>\n",
              "      <td>United Kingdom</td>\n",
              "    </tr>\n",
              "  </tbody>\n",
              "</table>\n",
              "</div>"
            ],
            "text/plain": [
              "  InvoiceNo StockCode  ... CustomerID         Country\n",
              "0    536365    85123A  ...    17850.0  United Kingdom\n",
              "1    536365     71053  ...    17850.0  United Kingdom\n",
              "2    536365    84406B  ...    17850.0  United Kingdom\n",
              "3    536365    84029G  ...    17850.0  United Kingdom\n",
              "4    536365    84029E  ...    17850.0  United Kingdom\n",
              "\n",
              "[5 rows x 8 columns]"
            ]
          },
          "metadata": {
            "tags": []
          },
          "execution_count": 5
        }
      ]
    },
    {
      "cell_type": "markdown",
      "metadata": {
        "id": "HChM_88szGTN",
        "colab_type": "text"
      },
      "source": [
        "A tabela acima mostra a estrutura da planilha. Podemos observar os campos:\n",
        "\n",
        "- **InvoiceNo**: Este é um identificador único para cada compra.\n",
        "- **StockCode**: Identificador único para cada produto.\n",
        "- **Description**: Descrição do produto.\n",
        "- **Quantidade**: Quantidade daquele produto, naquela compra.\n",
        "- **InvoiceDate**: Dia e hora da compra.\n",
        "- **CustomerID**: Identificador único do cliente."
      ]
    },
    {
      "cell_type": "code",
      "metadata": {
        "id": "oN-jtPHe0VKz",
        "colab_type": "code",
        "colab": {
          "base_uri": "https://localhost:8080/",
          "height": 35
        },
        "outputId": "3d2f19e2-5228-42bb-ffe1-f5a105b739c3"
      },
      "source": [
        "df.shape"
      ],
      "execution_count": 6,
      "outputs": [
        {
          "output_type": "execute_result",
          "data": {
            "text/plain": [
              "(541909, 8)"
            ]
          },
          "metadata": {
            "tags": []
          },
          "execution_count": 6
        }
      ]
    },
    {
      "cell_type": "markdown",
      "metadata": {
        "id": "TfS_FBWK0Y_Y",
        "colab_type": "text"
      },
      "source": [
        "Acima vemos que essa base de dados possui 541.909 registros. Cada registro representa uma linha, ou seja, um produto comprado (cuja quantidade pode ser maior que 1). Diferentes linhas podem representar diferentes itens de uma mesma compra."
      ]
    },
    {
      "cell_type": "markdown",
      "metadata": {
        "id": "zwgPe3f90tSw",
        "colab_type": "text"
      },
      "source": [
        "# Passo 2: Remoção de Dados Nulos\n",
        "\n",
        "Neste passo vamos remover da base de dados os dados relativos a compras de produtos onde algum dos dados de interesse estejam faltando."
      ]
    },
    {
      "cell_type": "markdown",
      "metadata": {
        "id": "AeSIJZ9x1Cuv",
        "colab_type": "text"
      },
      "source": [
        "Começamos observando a quantidade de dados nulos"
      ]
    },
    {
      "cell_type": "code",
      "metadata": {
        "id": "jJmozJlf1Aze",
        "colab_type": "code",
        "colab": {
          "base_uri": "https://localhost:8080/",
          "height": 181
        },
        "outputId": "9165e0bb-09be-4585-f094-224f6f444150"
      },
      "source": [
        "df.isnull().sum()"
      ],
      "execution_count": 7,
      "outputs": [
        {
          "output_type": "execute_result",
          "data": {
            "text/plain": [
              "InvoiceNo           0\n",
              "StockCode           0\n",
              "Description      1454\n",
              "Quantity            0\n",
              "InvoiceDate         0\n",
              "UnitPrice           0\n",
              "CustomerID     135080\n",
              "Country             0\n",
              "dtype: int64"
            ]
          },
          "metadata": {
            "tags": []
          },
          "execution_count": 7
        }
      ]
    },
    {
      "cell_type": "markdown",
      "metadata": {
        "id": "KWgIGnJL1M9b",
        "colab_type": "text"
      },
      "source": [
        "Acima podemos observar há 1.454 registros sem a descrição do produto, e 135.080 registros sem a identificação do cliente comprador."
      ]
    },
    {
      "cell_type": "markdown",
      "metadata": {
        "id": "H7RR0IK82HuT",
        "colab_type": "text"
      },
      "source": [
        "No código abaixo descartaremos esses dados que aparecem com algum campo nulo."
      ]
    },
    {
      "cell_type": "code",
      "metadata": {
        "id": "1ZrVo84f2OmJ",
        "colab_type": "code",
        "colab": {
          "base_uri": "https://localhost:8080/",
          "height": 181
        },
        "outputId": "0e742b11-a74c-4d1b-9eef-db12d6e66217"
      },
      "source": [
        "# Remove dados nulos\n",
        "df.dropna(inplace=True)\n",
        "# Verifica novamente\n",
        "df.isnull().sum()"
      ],
      "execution_count": 8,
      "outputs": [
        {
          "output_type": "execute_result",
          "data": {
            "text/plain": [
              "InvoiceNo      0\n",
              "StockCode      0\n",
              "Description    0\n",
              "Quantity       0\n",
              "InvoiceDate    0\n",
              "UnitPrice      0\n",
              "CustomerID     0\n",
              "Country        0\n",
              "dtype: int64"
            ]
          },
          "metadata": {
            "tags": []
          },
          "execution_count": 8
        }
      ]
    },
    {
      "cell_type": "markdown",
      "metadata": {
        "id": "nlj5sCY7SNs8",
        "colab_type": "text"
      },
      "source": [
        "# Passo 3: Dicionário de Produtos"
      ]
    },
    {
      "cell_type": "code",
      "metadata": {
        "id": "mZhbpw2PSUUL",
        "colab_type": "code",
        "colab": {}
      },
      "source": [
        "\n",
        "\n",
        "# Separa apenas as colunas de código de produto e descrição\n",
        "products = df[[\"StockCode\", \"Description\"]]\n",
        "\n",
        "# Transforma os StockCodes em strings\n",
        "products['StockCode'] = products['StockCode'].astype(str)\n",
        "\n",
        "# Remove duplicados\n",
        "products.drop_duplicates(inplace=True, subset='StockCode', keep=\"last\")\n",
        "\n",
        "# create product-ID and product-description dictionary\n",
        "products_dict = products.groupby('StockCode')['Description'].apply(list).to_dict()"
      ],
      "execution_count": 9,
      "outputs": []
    },
    {
      "cell_type": "code",
      "metadata": {
        "id": "0GtvB9h7Sm-1",
        "colab_type": "code",
        "colab": {
          "base_uri": "https://localhost:8080/",
          "height": 35
        },
        "outputId": "1d90dece-2870-4e9e-8e08-b07ced7d593a"
      },
      "source": [
        "# Teste do dicionário\n",
        "products_dict['84854']"
      ],
      "execution_count": 10,
      "outputs": [
        {
          "output_type": "execute_result",
          "data": {
            "text/plain": [
              "['GIRLY PINK TOOL SET']"
            ]
          },
          "metadata": {
            "tags": []
          },
          "execution_count": 10
        }
      ]
    },
    {
      "cell_type": "markdown",
      "metadata": {
        "id": "XzH4dqdM2bPg",
        "colab_type": "text"
      },
      "source": [
        "# Passo 4: Preparação dos Dados\n",
        "\n",
        "Neste passo vamos preprarar os dados transformando o histórico de compras de cada consumidor numa espécie de \"frase\", onde cada \"palavra\" é um produto comprado."
      ]
    },
    {
      "cell_type": "markdown",
      "metadata": {
        "id": "CVIvmK9v3O96",
        "colab_type": "text"
      },
      "source": [
        "Começamos convertendo os códigos de produto (coluna **StockCode**) para string, para usar como \"palavras\" no treinamento de um modelo word2vec no `gensim` mais tarde."
      ]
    },
    {
      "cell_type": "code",
      "metadata": {
        "id": "Wvr77qNr2yKh",
        "colab_type": "code",
        "colab": {}
      },
      "source": [
        "df['StockCode'] = df['StockCode'].astype(str)"
      ],
      "execution_count": 11,
      "outputs": []
    },
    {
      "cell_type": "markdown",
      "metadata": {
        "id": "qev247Zd3fq2",
        "colab_type": "text"
      },
      "source": [
        "Agora vamos confirmar quantos clientes únicos temos nessa base de dados"
      ]
    },
    {
      "cell_type": "code",
      "metadata": {
        "id": "SLGQA2VZ3lpc",
        "colab_type": "code",
        "colab": {
          "base_uri": "https://localhost:8080/",
          "height": 35
        },
        "outputId": "9f01a32b-928f-4b9c-bf1c-5cb71deef082"
      },
      "source": [
        "# A linha abaixo cria uma lista coletando os ids\n",
        "# da coluna CustomerID, selecionando apenas ids\n",
        "# únicos (não recolhe ids repetidos)\n",
        "customers = df[\"CustomerID\"].unique().tolist()\n",
        "len(customers)"
      ],
      "execution_count": 12,
      "outputs": [
        {
          "output_type": "execute_result",
          "data": {
            "text/plain": [
              "4372"
            ]
          },
          "metadata": {
            "tags": []
          },
          "execution_count": 12
        }
      ]
    },
    {
      "cell_type": "markdown",
      "metadata": {
        "id": "2ZTGaq3n35dn",
        "colab_type": "text"
      },
      "source": [
        "Acima verificamos que há 4.372 clientes na base de dados. Para cada um desses clientes vamos verificar o histórico de compras, criando 4.372 sequências de compras."
      ]
    },
    {
      "cell_type": "markdown",
      "metadata": {
        "id": "6NMYC9JY4ose",
        "colab_type": "text"
      },
      "source": [
        "# Passo 4: Separação em treino e validação\n",
        "\n",
        "Neste passo vamos preprarar separar os dados em dados de treino e de validação.\n"
      ]
    },
    {
      "cell_type": "markdown",
      "metadata": {
        "id": "cIMP9AOiHWOr",
        "colab_type": "text"
      },
      "source": [
        "No código abaixo embaralhamos a ordem dos ids dos clientes na lista `customers`."
      ]
    },
    {
      "cell_type": "code",
      "metadata": {
        "id": "MvRoZx2wHOXv",
        "colab_type": "code",
        "colab": {}
      },
      "source": [
        "import numpy as np\n",
        "import random\n",
        "random.shuffle(customers)"
      ],
      "execution_count": 13,
      "outputs": []
    },
    {
      "cell_type": "markdown",
      "metadata": {
        "id": "cQYdfD3RJI75",
        "colab_type": "text"
      },
      "source": [
        "Agora vamos separar dados de treinamento e de validação"
      ]
    },
    {
      "cell_type": "code",
      "metadata": {
        "id": "Kq6yEiaQJIjr",
        "colab_type": "code",
        "colab": {}
      },
      "source": [
        "# Calcula a quantidade de clientes que usaremos\n",
        "# para treinamento\n",
        "train_size = int(0.9 * len(customers))\n",
        "\n",
        "# Separa os consumidores em duas listas: uma para\n",
        "# treinamento e a outra para validação\n",
        "customers_train = customers[:train_size]\n",
        "customers_val = customers[train_size:len(customers)]\n",
        "\n",
        "# Baseados nessa separação acima, separamos os dados\n",
        "df_train = df[df['CustomerID'].isin(customers_train)]\n",
        "df_val = df[df['CustomerID'].isin(customers_val)]"
      ],
      "execution_count": 14,
      "outputs": []
    },
    {
      "cell_type": "markdown",
      "metadata": {
        "id": "IPSvCp8LKB5n",
        "colab_type": "text"
      },
      "source": [
        "# Passo 5: Cria um histórico de compras de cada cliente\n",
        "\n",
        "Com essas listas de clientes criamos abaixo as sequências de compras de acordo com os históricos de cada cliente."
      ]
    },
    {
      "cell_type": "code",
      "metadata": {
        "id": "Cp8qT1FJKPY2",
        "colab_type": "code",
        "colab": {}
      },
      "source": [
        "# Esse módulo serve para mostrar uma barra de progresso\n",
        "def compile_orders(customers, df):\n",
        "  ''' Essa função coleta todas compras do histódico\n",
        "      de cada cliente. O parâmetro customers é a lista\n",
        "      de ids de clientes e o parâmetro df é o objeto\n",
        "      DataFrame do pandas com os dados de cada compra.\n",
        "      O valor retornado é uma lista de listas, onde cada\n",
        "      lista interna contém a seguência de códigos de produto\n",
        "      de cada compra, na ordem que se apresentava no\n",
        "      histórico.\n",
        "  '''\n",
        "  orders = []\n",
        "  for customer in customers:\n",
        "    order = df[df['CustomerID'] == customer]['StockCode'].tolist()\n",
        "    orders.append(order)\n",
        "  return orders"
      ],
      "execution_count": 15,
      "outputs": []
    },
    {
      "cell_type": "code",
      "metadata": {
        "id": "CaIkbOMiM2ne",
        "colab_type": "code",
        "colab": {}
      },
      "source": [
        "# Aqui separamos as listas de listas de compras. Este código\n",
        "# demora cerca de 1 minuto para rodar\n",
        "orders_train = compile_orders(customers_train, df_train)\n",
        "orders_val = compile_orders(customers_val, df_val)"
      ],
      "execution_count": 16,
      "outputs": []
    },
    {
      "cell_type": "code",
      "metadata": {
        "id": "FXkt2fa3Pi3c",
        "colab_type": "code",
        "colab": {
          "base_uri": "https://localhost:8080/",
          "height": 74
        },
        "outputId": "c4f79d36-09a9-4c02-d753-6d8a2990dc79"
      },
      "source": [
        "# Mostra o cliente e a lista de compra do mesmo\n",
        "print(' Cliente: ' + str(customers[0]))\n",
        "print(' Comprou: ' + str(orders_train[0]))"
      ],
      "execution_count": 17,
      "outputs": [
        {
          "output_type": "stream",
          "text": [
            " Cliente: 13926.0\n",
            " Comprou: ['22470', '22694', '22910', '23322', '84945', '21498', '20750', '23503', '21630', '46000M', '84078A']\n"
          ],
          "name": "stdout"
        }
      ]
    },
    {
      "cell_type": "markdown",
      "metadata": {
        "id": "nAnzZpVu47Af",
        "colab_type": "text"
      },
      "source": [
        "# Passo 6: Importa o GENSIN para criar o modelo Word2Vec"
      ]
    },
    {
      "cell_type": "code",
      "metadata": {
        "id": "a68W-_JsSBoe",
        "colab_type": "code",
        "colab": {}
      },
      "source": [
        "# Importa o módulo GENSIN para embedding word2vec\n",
        "import gensim"
      ],
      "execution_count": 18,
      "outputs": []
    },
    {
      "cell_type": "code",
      "metadata": {
        "id": "_VSKPJqJSKxz",
        "colab_type": "code",
        "colab": {}
      },
      "source": [
        "# Cria o modelo do word2vec\n",
        "model = gensim.models.Word2Vec(orders_train, size = 50, window = 8, min_count = 20, workers = 10, iter = 20)"
      ],
      "execution_count": 19,
      "outputs": []
    },
    {
      "cell_type": "code",
      "metadata": {
        "id": "3jUGjmigSfI8",
        "colab_type": "code",
        "colab": {}
      },
      "source": [
        "# Função que encontra produtos similares no modelo de word2vec e printa para o usuário\n",
        "def similar_products(code):\n",
        "  print('Product description from the code: ' + str(products_dict[str(code)][0]))\n",
        "\n",
        "  list_of_similar = model.wv.most_similar(positive=str(code))\n",
        "  print('\\nSimilar products: ')\n",
        "  for stock_code, similarity in list_of_similar:\n",
        "    print('Similarity: ' + str(similarity*100) + '% ', ' \\t Product: ' + str(products_dict[str(stock_code)][0]))\n"
      ],
      "execution_count": 34,
      "outputs": []
    },
    {
      "cell_type": "markdown",
      "metadata": {
        "id": "gLc361Ja5CeW",
        "colab_type": "text"
      },
      "source": [
        "#Passo 7: Cria sugestões à partir de Listas"
      ]
    },
    {
      "cell_type": "code",
      "metadata": {
        "id": "Etc9ckcXWKpY",
        "colab_type": "code",
        "colab": {
          "base_uri": "https://localhost:8080/",
          "height": 254
        },
        "outputId": "14345175-1663-49bd-ab03-66206ac9a874"
      },
      "source": [
        "# Teste da Função que retorna produtos similares a partir do código\n",
        "similar_products(21733)"
      ],
      "execution_count": 35,
      "outputs": [
        {
          "output_type": "stream",
          "text": [
            "Product description from the code: RED HANGING HEART T-LIGHT HOLDER\n",
            "\n",
            "Similar products: \n",
            "Similarity: 78.16364169120789%   \t Product: PINK HANGING HEART T-LIGHT HOLDER\n",
            "Similarity: 63.269299268722534%   \t Product: CREAM HANGING HEART T-LIGHT HOLDER\n",
            "Similarity: 47.1172958612442%   \t Product: CREAM HEART CARD HOLDER\n",
            "Similarity: 46.76222503185272%   \t Product: HANGING METAL STAR LANTERN\n",
            "Similarity: 44.54137980937958%   \t Product: GLASS STAR FROSTED T-LIGHT HOLDER\n",
            "Similarity: 44.16430592536926%   \t Product: ANT WHITE WIRE HEART SPIRAL\n",
            "Similarity: 43.30875277519226%   \t Product: HANGING METAL HEART LANTERN\n",
            "Similarity: 40.46420156955719%   \t Product: HEART OF WICKER LARGE\n",
            "Similarity: 39.573997259140015%   \t Product: COLOURED GLASS STAR T-LIGHT HOLDER\n",
            "Similarity: 38.83829116821289%   \t Product: PINK HEART SHAPE EGG FRYING PAN\n"
          ],
          "name": "stdout"
        }
      ]
    },
    {
      "cell_type": "code",
      "metadata": {
        "id": "bAafymvxZCu9",
        "colab_type": "code",
        "colab": {}
      },
      "source": [
        "# Função que à partir de uma lista de compras, calcula o vetor médio e retorna uma lista de sugestões para a lista de compras\n",
        "\n",
        "def list_suggestion(shopping_list):\n",
        "  \n",
        "  print('Shopping List: ')\n",
        "  v = 0\n",
        "  for product in shopping_list:\n",
        "    if product in model:\n",
        "      print(str(products_dict[str(product)][0]))\n",
        "      v = v + model[str(product)]\n",
        "      v = v/len(shopping_list)   \n",
        "      similars = model.similar_by_vector(v)\n",
        "      products_similars = [i[0] for i in similars]\n",
        "      similarities = [i[1] for i in similars]\n",
        "    \n",
        "  \n",
        "  # Check se há produtos sugeridos na lista de compras e remove\n",
        "  duplicados =list(set(shopping_list).intersection(products_similars))\n",
        "  for duplicado in duplicados:\n",
        "    products_similars.remove(duplicado)\n",
        "\n",
        "  # Printa os produtos sugeridos e as respectivas similaridades com a lista\n",
        "  print('\\nSuggested Products: ')\n",
        "  for product, similarity in zip(products_similars, similarities):\n",
        "    print('Similarity: ' + str(similarity*100) + '%' + '\\t Product: ' + str(products_dict[product][0]))\n",
        "  "
      ],
      "execution_count": 51,
      "outputs": []
    },
    {
      "cell_type": "code",
      "metadata": {
        "id": "FonbaGrKowsg",
        "colab_type": "code",
        "colab": {
          "base_uri": "https://localhost:8080/",
          "height": 1000
        },
        "outputId": "05fb31d0-6ee1-4f45-e663-e5148d125dca"
      },
      "source": [
        "# Pega 5 lista de clientes aleatórios e sugere uma lista de produtos\n",
        "for i in range(5):\n",
        "  k = np.random.randint(len(orders_val))\n",
        "  print('\\nClient number ' + str(k) + ' from validation set')\n",
        "  list_suggestion(orders_val[k])"
      ],
      "execution_count": 53,
      "outputs": [
        {
          "output_type": "stream",
          "text": [
            "\n",
            "Client number 123 from validation set\n",
            "Shopping List: \n",
            "JAZZ HEARTS ADDRESS BOOK\n",
            "PINK VINTAGE PAISLEY PICNIC BAG\n",
            "BLUE CHARLIE+LOLA PERSONAL DOORSIGN\n",
            "RED CHARLIE+LOLA PERSONAL DOORSIGN\n",
            "CHARLIE & LOLA WASTEPAPER BIN FLORA\n",
            "CHARLIE & LOLA WASTEPAPER BIN BLUE\n",
            "LAVENDER SCENTED FABRIC HEART\n",
            "GINGHAM HEART DECORATION\n",
            "LARGE WHITE HEART OF WICKER\n",
            "CREAM HANGING HEART T-LIGHT HOLDER\n",
            "JUMBO BAG PAISLEY PARK\n",
            "JUMBO BAG PINK POLKADOT\n",
            "\n",
            "Suggested Products: \n",
            "Similarity: 99.74992275238037%\t Product: JUMBO SHOPPER VINTAGE RED PAISLEY\n",
            "Similarity: 83.766108751297%\t Product: JUMBO BAG STRAWBERRY\n",
            "Similarity: 83.53216648101807%\t Product: JUMBO STORAGE BAG SUKI\n",
            "Similarity: 83.4604024887085%\t Product: JUMBO STORAGE BAG SKULLS\n",
            "Similarity: 82.9266905784607%\t Product: JUMBO  BAG BAROQUE BLACK WHITE\n",
            "Similarity: 81.09998106956482%\t Product: JUMBO BAG TOYS \n",
            "Similarity: 80.62930107116699%\t Product: JUMBO BAG OWLS\n",
            "Similarity: 80.61365485191345%\t Product: JUMBO BAG SCANDINAVIAN BLUE PAISLEY\n",
            "Similarity: 79.64452505111694%\t Product: JUMBO BAG PINK VINTAGE PAISLEY\n",
            "\n",
            "Client number 404 from validation set\n",
            "Shopping List: \n",
            "ALARM CLOCK BAKELIKE PINK\n",
            "ALARM CLOCK BAKELIKE RED \n",
            "ALARM CLOCK BAKELIKE GREEN\n",
            "PANDA AND BUNNIES STICKER SHEET\n",
            "STARS GIFT TAPE \n",
            "INFLATABLE POLITICAL GLOBE \n",
            "VINTAGE HEADS AND TAILS CARD GAME \n",
            "SET/2 RED RETROSPOT TEA TOWELS \n",
            "ROUND SNACK BOXES SET OF4 WOODLAND \n",
            "SPACEBOY LUNCH BOX \n",
            "LUNCH BOX I LOVE LONDON\n",
            "CIRCUS PARADE LUNCH BOX \n",
            "CHARLOTTE BAG DOLLY GIRL DESIGN\n",
            "RED TOADSTOOL LED NIGHT LIGHT\n",
            "SET 2 TEA TOWELS I LOVE LONDON \n",
            "VINTAGE SEASIDE JIGSAW PUZZLES\n",
            "MINI JIGSAW CIRCUS PARADE \n",
            "MINI JIGSAW SPACEBOY\n",
            "MINI PAINT SET VINTAGE \n",
            "POSTAGE\n",
            "SET/6 RED SPOTTY PAPER CUPS\n",
            "SET/20 RED RETROSPOT PAPER NAPKINS \n",
            "ALARM CLOCK BAKELIKE GREEN\n",
            "ALARM CLOCK BAKELIKE RED \n",
            "ALARM CLOCK BAKELIKE PINK\n",
            "ALARM CLOCK BAKELIKE ORANGE\n",
            "SET/10 RED POLKADOT PARTY CANDLES\n",
            "ROUND SNACK BOXES SET OF4 WOODLAND \n",
            "RED RETROSPOT MINI CASES\n",
            "PLASTERS IN TIN SPACEBOY\n",
            "PLASTERS IN TIN CIRCUS PARADE \n",
            "PLASTERS IN TIN STRONGMAN\n",
            "RED TOADSTOOL LED NIGHT LIGHT\n",
            "PAPERWEIGHT CHILDHOOD MEMORIES\n",
            "RETROSPOT PARTY BAG + STICKER SET\n",
            "WOODLAND PARTY BAG + STICKER SET\n",
            "WOODLAND CHARLOTTE BAG\n",
            "STARS GIFT TAPE \n",
            "RED RETROSPOT APRON \n",
            "CHILDRENS APRON SPACEBOY DESIGN\n",
            "SET/6 RED SPOTTY PAPER PLATES\n",
            "POSTAGE\n",
            "MINI JIGSAW CIRCUS PARADE \n",
            "MINI JIGSAW DOLLY GIRL\n",
            "PLASTERS IN TIN CIRCUS PARADE \n",
            "PLASTERS IN TIN WOODLAND ANIMALS\n",
            "PLASTERS IN TIN SPACEBOY\n",
            "PACK OF 12 WOODLAND TISSUES \n",
            "PACK OF 12 CIRCUS PARADE TISSUES \n",
            "PACK OF 12 LONDON TISSUES \n",
            "PACK OF 12 SPACEBOY TISSUES\n",
            "CARTOON  PENCIL SHARPENERS\n",
            "ROUND SNACK BOXES SET OF4 WOODLAND \n",
            "MINI PAINT SET VINTAGE \n",
            "POSTAGE\n",
            "POSTAGE\n",
            " SPACEBOY BABY GIFT SET\n",
            "CIRCUS PARADE BABY GIFT SET\n",
            "STRAWBERRY LUNCH BOX WITH CUTLERY\n",
            "RED RETROSPOT APRON \n",
            "SET/20 RED RETROSPOT PAPER NAPKINS \n",
            "SET/6 RED SPOTTY PAPER CUPS\n",
            "SET/6 RED SPOTTY PAPER PLATES\n",
            "BLUE POLKADOT CUP\n",
            "RED TOADSTOOL LED NIGHT LIGHT\n",
            "RETROSPOT PARTY BAG + STICKER SET\n",
            "WOODLAND PARTY BAG + STICKER SET\n",
            "PLASTERS IN TIN CIRCUS PARADE \n",
            "PLASTERS IN TIN WOODLAND ANIMALS\n",
            "ALARM CLOCK BAKELIKE ORANGE\n",
            "POPCORN HOLDER\n",
            "PAPER BUNTING RETROSPOT\n",
            "MINI PAINT SET VINTAGE \n",
            "POSTAGE\n",
            "GIRAFFE WOODEN RULER\n",
            "I LOVE LONDON BABY GIFT SET\n",
            "FOLDING BUTTERFLY MIRROR HOT PINK \n",
            "FOLDING BUTTERFLY MIRROR RED  \n",
            "PLASTERS IN TIN CIRCUS PARADE \n",
            "MINI PAINT SET VINTAGE \n",
            "BALLOON PUMP WITH 10 BALLOONS\n",
            "BLUE POLKADOT CUP\n",
            "RED RETROSPOT CUP\n",
            "PAPER BUNTING RETROSPOT\n",
            "ALARM CLOCK BAKELIKE ORANGE\n",
            "RED RETROSPOT CHARLOTTE BAG\n",
            "WOODLAND CHARLOTTE BAG\n",
            "RED RETROSPOT SHOPPING BAG\n",
            "SET/10 RED POLKADOT PARTY CANDLES\n",
            "PACK OF 72 RETROSPOT CAKE CASES\n",
            "RED RETROSPOT OVEN GLOVE \n",
            "12 PENCILS TALL TUBE RED RETROSPOT\n",
            "12 PENCILS TALL TUBE WOODLAND\n",
            "GREEN POLKADOT PLATE \n",
            "SET OF 3 BUTTERFLY COOKIE CUTTERS\n",
            "POSTAGE\n",
            "SILVER BELLS TABLE DECORATION\n",
            "BLUE POLKADOT CUP\n",
            "RED RETROSPOT CUP\n",
            "BLUE POLKADOT PLATE \n",
            "RED RETROSPOT PLATE \n",
            "SPOTTY BUNTING\n",
            "POPCORN HOLDER\n",
            "SET OF 72 RETROSPOT PAPER  DOILIES\n",
            "CHARLOTTE BAG PINK POLKADOT\n",
            "FAIRY TALE COTTAGE NIGHT LIGHT\n",
            "PENS ASSORTED FUNNY FACE\n",
            "PENS ASSORTED SPACEBALL\n",
            "WOODEN SCHOOL COLOURING SET\n",
            "POSTAGE\n",
            "ALARM CLOCK BAKELIKE GREEN\n",
            "ALARM CLOCK BAKELIKE RED \n",
            "ALARM CLOCK BAKELIKE PINK\n",
            "ALARM CLOCK BAKELIKE ORANGE\n",
            "CARTOON  PENCIL SHARPENERS\n",
            "18PC WOODEN CUTLERY SET DISPOSABLE\n",
            "SET/6 RED SPOTTY PAPER PLATES\n",
            "SET/20 RED RETROSPOT PAPER NAPKINS \n",
            "SET/6 RED SPOTTY PAPER CUPS\n",
            "STRAWBERRY LUNCH BOX WITH CUTLERY\n",
            "RETROSPOT PARTY BAG + STICKER SET\n",
            "POSTAGE\n",
            "ALARM CLOCK BAKELIKE PINK\n",
            "SET/20 RED RETROSPOT PAPER NAPKINS \n",
            "SET/6 RED SPOTTY PAPER PLATES\n",
            "SET/6 RED SPOTTY PAPER CUPS\n",
            "36 FOIL STAR CAKE CASES \n",
            "CHILDS BREAKFAST SET CIRCUS PARADE\n",
            "PLASTERS IN TIN CIRCUS PARADE \n",
            "ZINC FOLKART SLEIGH BELLS\n",
            "PACK OF 6 SKULL PAPER PLATES\n",
            "PACK OF 20 SKULL PAPER NAPKINS\n",
            "PACK OF 6 SKULL PAPER CUPS\n",
            "PLASTERS IN TIN WOODLAND ANIMALS\n",
            "PLASTERS IN TIN SPACEBOY\n",
            "POSTAGE\n",
            "RIBBON REEL FLORA + FAUNA \n",
            "RIBBON REEL STRIPES DESIGN \n",
            "RIBBON REEL POLKADOTS \n",
            "SET OF 72 RETROSPOT PAPER  DOILIES\n",
            "RETROSPOT CHILDRENS APRON\n",
            "SET/20 RED RETROSPOT PAPER NAPKINS \n",
            "SET/6 RED SPOTTY PAPER CUPS\n",
            "SET/6 RED SPOTTY PAPER PLATES\n",
            "ICE CREAM BUBBLES\n",
            "ROUND SNACK BOXES SET OF4 WOODLAND \n",
            "POSTAGE\n",
            "CLASSIC GLASS COOKIE JAR\n",
            "ROUND SNACK BOXES SET OF4 WOODLAND \n",
            "MINI PAINT SET VINTAGE \n",
            "RED RETROSPOT SHOPPING BAG\n",
            "SET OF 72 RETROSPOT PAPER  DOILIES\n",
            "LUNCH BOX I LOVE LONDON\n",
            "ALARM CLOCK BAKELIKE GREEN\n",
            "ALARM CLOCK BAKELIKE RED \n",
            "ALARM CLOCK BAKELIKE PINK\n",
            "RETROSPOT PARTY BAG + STICKER SET\n",
            "FAIRY TALE COTTAGE NIGHT LIGHT\n",
            "SET 6 SCHOOL MILK BOTTLES IN CRATE\n",
            "WOODLAND MINI BACKPACK\n",
            "SPACEBOY MINI BACKPACK\n",
            "DOLLY GIRL MINI BACKPACK\n",
            "VINTAGE CHRISTMAS PAPER GIFT BAG\n",
            "RED SPOT PAPER GIFT BAG\n",
            "GIRAFFE WOODEN RULER\n",
            "RED TOADSTOOL LED NIGHT LIGHT\n",
            "GLASS CLOCHE SMALL\n",
            "POSTAGE\n",
            "POPCORN HOLDER\n",
            "CLASSIC GLASS COOKIE JAR\n",
            "POPCORN HOLDER\n",
            "SET 12 COLOUR PENCILS DOLLY GIRL \n",
            "SET 12 COLOUR PENCILS SPACEBOY \n",
            "MINI PLAYING CARDS SPACEBOY \n",
            "MINI PLAYING CARDS FUN FAIR \n",
            "SPACEBOY LUNCH BOX \n",
            "STRAWBERRY LUNCH BOX WITH CUTLERY\n",
            "RETROSPOT CHILDRENS APRON\n",
            "RED RETROSPOT MINI CASES\n",
            "PAPER BUNTING RETROSPOT\n",
            "SPOTTY BUNTING\n",
            "MINI JIGSAW DOLLY GIRL\n",
            "POSTAGE\n",
            "SPACEBOY MINI BACKPACK\n",
            "LUNCH BOX WITH CUTLERY RETROSPOT \n",
            "SPACEBOY MINI BACKPACK\n",
            "WOODLAND MINI BACKPACK\n",
            "DOLLY GIRL MINI BACKPACK\n",
            "POPCORN HOLDER\n",
            "POSTAGE\n",
            "RED RETROSPOT CHARLOTTE BAG\n",
            "ZINC FOLKART SLEIGH BELLS\n",
            "MINI LIGHTS WOODLAND MUSHROOMS\n",
            "TRADITIONAL PICK UP STICKS GAME \n",
            "SET 12 COLOUR PENCILS SPACEBOY \n",
            "PLASTERS IN TIN STRONGMAN\n",
            "60 CAKE CASES DOLLY GIRL DESIGN\n",
            "PACK OF 60 SPACEBOY CAKE CASES\n",
            "PACK OF 60 MUSHROOM CAKE CASES\n",
            "WOODLAND CHARLOTTE BAG\n",
            "RED RETROSPOT CHARLOTTE BAG\n",
            "CHARLOTTE BAG PINK POLKADOT\n",
            "MINI PAINT SET VINTAGE \n",
            "CHILDS BREAKFAST SET CIRCUS PARADE\n",
            "POPCORN HOLDER\n",
            "PAPER CHAIN KIT RETROSPOT\n",
            "ROUND SNACK BOXES SET OF4 WOODLAND \n",
            "ROUND SNACK BOXES SET OF 4 FRUITS \n",
            "SKULL AND CROSSBONES  GARLAND \n",
            "ALARM CLOCK BAKELIKE RED \n",
            "ALARM CLOCK BAKELIKE GREEN\n",
            "ALARM CLOCK BAKELIKE PINK\n",
            "ALARM CLOCK BAKELIKE IVORY\n",
            "ICE CREAM BUBBLES\n",
            "SPOTTY BUNTING\n",
            "POSTAGE\n",
            "PACK OF 72 RETROSPOT CAKE CASES\n",
            "SET 12 COLOUR PENCILS SPACEBOY \n",
            "SET 12 COLOUR PENCILS DOLLY GIRL \n",
            "RETROSPOT PARTY BAG + STICKER SET\n",
            "GIRAFFE WOODEN RULER\n",
            "SET/6 RED SPOTTY PAPER PLATES\n",
            "SET/6 RED SPOTTY PAPER CUPS\n",
            "SET/20 RED RETROSPOT PAPER NAPKINS \n",
            "PACK OF 6 SKULL PAPER PLATES\n",
            "PACK OF 20 SKULL PAPER NAPKINS\n",
            "PACK OF 6 SKULL PAPER CUPS\n",
            "WOODLAND  STICKERS\n",
            "SKULLS PARTY BAG + STICKER SET\n",
            "PAPER BUNTING VINTAGE PARTY\n",
            "POSTAGE\n",
            "RABBIT NIGHT LIGHT\n",
            "SET OF 6 RIBBONS PERFECTLY PRETTY  \n",
            "MINI JIGSAW CIRCUS PARADE \n",
            "MINI JIGSAW SPACEBOY\n",
            "MINI LIGHTS WOODLAND MUSHROOMS\n",
            "RABBIT NIGHT LIGHT\n",
            "SPOTTY BUNTING\n",
            "SET OF 20 VINTAGE CHRISTMAS NAPKINS\n",
            "PACK OF 20 SPACEBOY NAPKINS\n",
            "BAKING SET SPACEBOY DESIGN\n",
            "EMBROIDERED RIBBON REEL DAISY \n",
            "CHILDRENS APRON SPACEBOY DESIGN\n",
            "POSTAGE\n",
            "RETROSPOT CHILDRENS APRON\n",
            "LUNCH BOX WITH CUTLERY RETROSPOT \n",
            "STRAWBERRY LUNCH BOX WITH CUTLERY\n",
            "ROUND SNACK BOXES SET OF4 WOODLAND \n",
            "WOODLAND MINI BACKPACK\n",
            "ALARM CLOCK BAKELIKE PINK\n",
            "ALARM CLOCK BAKELIKE GREEN\n",
            "\n",
            "Suggested Products: \n",
            "Similarity: 99.9998390674591%\t Product: ALARM CLOCK BAKELIKE CHOCOLATE\n",
            "Similarity: 84.94207859039307%\t Product: SET OF 3 REGENCY CAKE TINS\n",
            "Similarity: 84.30310487747192%\t Product: MINT DINER WALL CLOCK\n",
            "Similarity: 83.7012767791748%\t Product: MINT KITCHEN SCALES\n",
            "Similarity: 76.16844177246094%\t Product: BLUE DINER WALL CLOCK\n",
            "\n",
            "Client number 123 from validation set\n",
            "Shopping List: \n",
            "JAZZ HEARTS ADDRESS BOOK\n",
            "PINK VINTAGE PAISLEY PICNIC BAG\n",
            "BLUE CHARLIE+LOLA PERSONAL DOORSIGN\n",
            "RED CHARLIE+LOLA PERSONAL DOORSIGN\n",
            "CHARLIE & LOLA WASTEPAPER BIN FLORA\n",
            "CHARLIE & LOLA WASTEPAPER BIN BLUE\n",
            "LAVENDER SCENTED FABRIC HEART\n",
            "GINGHAM HEART DECORATION\n",
            "LARGE WHITE HEART OF WICKER\n",
            "CREAM HANGING HEART T-LIGHT HOLDER\n",
            "JUMBO BAG PAISLEY PARK\n",
            "JUMBO BAG PINK POLKADOT\n",
            "\n",
            "Suggested Products: \n",
            "Similarity: 99.74992275238037%\t Product: JUMBO SHOPPER VINTAGE RED PAISLEY\n",
            "Similarity: 83.766108751297%\t Product: JUMBO BAG STRAWBERRY\n",
            "Similarity: 83.53216648101807%\t Product: JUMBO STORAGE BAG SUKI\n",
            "Similarity: 83.4604024887085%\t Product: JUMBO STORAGE BAG SKULLS\n",
            "Similarity: 82.9266905784607%\t Product: JUMBO  BAG BAROQUE BLACK WHITE\n",
            "Similarity: 81.09998106956482%\t Product: JUMBO BAG TOYS \n",
            "Similarity: 80.62930107116699%\t Product: JUMBO BAG OWLS\n",
            "Similarity: 80.61365485191345%\t Product: JUMBO BAG SCANDINAVIAN BLUE PAISLEY\n",
            "Similarity: 79.64452505111694%\t Product: JUMBO BAG PINK VINTAGE PAISLEY\n",
            "\n",
            "Client number 69 from validation set\n",
            "Shopping List: \n",
            "RED TEA TOWEL CLASSIC DESIGN\n",
            "POTTING SHED TEA MUG\n",
            "POTTING SHED TWINE\n",
            "SINGLE HEART ZINC T-LIGHT HOLDER\n",
            "ZINC WILLIE WINKIE  CANDLE STICK\n",
            "HOT BATHS METAL SIGN\n",
            "KITCHEN METAL SIGN\n",
            "20 DOLLY PEGS RETROSPOT\n",
            "SET OF 3 HEART COOKIE CUTTERS\n",
            "SET OF 3 BUTTERFLY COOKIE CUTTERS\n",
            "SET OF 3 NOTEBOOKS IN PARCEL\n",
            "PINK BABY BUNTING\n",
            "BLACK HEART CARD HOLDER\n",
            "HOME GARLAND PAINTED ZINC \n",
            "HERB MARKER BASIL\n",
            "HERB MARKER PARSLEY\n",
            "PINK PARTY BAGS\n",
            "BLUE TEA TOWEL CLASSIC DESIGN\n",
            "EMPIRE DESIGN ROSETTE\n",
            "LARGE CHINESE STYLE SCISSOR\n",
            "SMALL CHINESE STYLE SCISSOR\n",
            "BIRDHOUSE GARDEN MARKER \n",
            "FRENCH BLUE METAL DOOR SIGN 9\n",
            "FRENCH BLUE METAL DOOR SIGN No\n",
            "FRENCH GARDEN SIGN BLUE METAL\n",
            "FRENCH LAUNDRY SIGN BLUE METAL\n",
            "PANTRY PASTRY BRUSH\n",
            "SET OF 6 SPICE TINS PANTRY DESIGN\n",
            "RED RETROSPOT SHOPPER BAG\n",
            "SET 3 RETROSPOT TEA,COFFEE,SUGAR\n",
            "SOAP DISH BROCANTE\n",
            "SINGLE HEART ZINC T-LIGHT HOLDER\n",
            "20 DOLLY PEGS RETROSPOT\n",
            "RECIPE BOX PANTRY YELLOW DESIGN\n",
            "RED RETROSPOT OVEN GLOVE \n",
            "TEA TIME OVEN GLOVE\n",
            "SET OF TEA COFFEE SUGAR TINS PANTRY\n",
            "PENCIL CASE LIFE IS BEAUTIFUL\n",
            "FRENCH PAISLEY CUSHION COVER \n",
            "LARGE CHINESE STYLE SCISSOR\n",
            "SMALL CHINESE STYLE SCISSOR\n",
            "HEART OF WICKER SMALL\n",
            "CUPBOARD 3 DRAWER MA CAMPAGNE\n",
            "FRENCH KITCHEN SIGN BLUE METAL\n",
            "FRENCH BATHROOM SIGN BLUE METAL\n",
            "WHITE WOOD GARDEN PLANT LADDER\n",
            "RECIPE BOX PANTRY YELLOW DESIGN\n",
            "ZINC FOLKART SLEIGH BELLS\n",
            "SET OF 3 WOODEN HEART DECORATIONS\n",
            "SET OF 3 WOODEN SLEIGH DECORATIONS\n",
            "SET OF 3 WOODEN TREE DECORATIONS\n",
            "SET OF 3 WOODEN STOCKING DECORATION\n",
            "FRENCH STYLE EMBOSSED HEART CABINET\n",
            "CHEST 7 DRAWER MA CAMPAGNE\n",
            "PANTRY MAGNETIC  SHOPPING LIST\n",
            "LARGE CHINESE STYLE SCISSOR\n",
            "ZINC T-LIGHT HOLDER STAR LARGE\n",
            "6 RIBBONS RUSTIC CHARM\n",
            "20 DOLLY PEGS RETROSPOT\n",
            "ENAMEL PINK COFFEE CONTAINER\n",
            "HOME GARLAND PAINTED ZINC \n",
            "FRENCH PAISLEY CUSHION COVER \n",
            "FRENCH PAISLEY CUSHION COVER \n",
            "SET OF 6 SPICE TINS PANTRY DESIGN\n",
            "OPEN CLOSED METAL SIGN\n",
            "FRENCH BLUE METAL DOOR SIGN 8\n",
            "SINGLE HEART ZINC T-LIGHT HOLDER\n",
            "ZINC T-LIGHT HOLDER STARS SMALL\n",
            "HEART OF WICKER SMALL\n",
            "HOT BATHS METAL SIGN\n",
            "BATHROOM METAL SIGN\n",
            "VINTAGE RED TRIM ENAMEL BOWL \n",
            "VINTAGE RED ENAMEL TRIM PLATE\n",
            "FRENCH ENAMEL POT W LID\n",
            "FRENCH ENAMEL CANDLEHOLDER\n",
            "NOEL GARLAND PAINTED ZINC \n",
            "FOLKART STAR CHRISTMAS DECORATIONS\n",
            "GREEN GOOSE FEATHER CHRISTMAS TREE \n",
            "VINTAGE  2 METRE FOLDING RULER\n",
            "ZINC WILLIE WINKIE  CANDLE STICK\n",
            "TRAVEL CARD WALLET KEEP CALM\n",
            "POSTE FRANCE CUSHION COVER\n",
            "BELLE JARDINIERE CUSHION COVER\n",
            "LE JARDIN BOTANIQUE CUSHION COVER\n",
            "HOME SWEET HOME CUSHION COVER \n",
            "BLACK TEA TOWEL CLASSIC DESIGN\n",
            "LARGE CHINESE STYLE SCISSOR\n",
            "\n",
            "Suggested Products: \n",
            "Similarity: 99.99551773071289%\t Product: MEDIUM CHINESE STYLE SCISSOR\n",
            "Similarity: 92.73459911346436%\t Product: MEDIUM MEDINA STAMPED METAL BOWL \n",
            "Similarity: 87.09273934364319%\t Product: SANDALWOOD FAN\n",
            "Similarity: 62.33968734741211%\t Product: LARGE MEDINA STAMPED METAL BOWL \n",
            "Similarity: 60.14670133590698%\t Product: WHITE SAGE INCENSE\n",
            "Similarity: 55.111509561538696%\t Product: SMALL MEDINA STAMPED METAL BOWL \n",
            "Similarity: 53.762924671173096%\t Product: VINTAGE RED ENAMEL TRIM MUG \n",
            "\n",
            "Client number 69 from validation set\n",
            "Shopping List: \n",
            "RED TEA TOWEL CLASSIC DESIGN\n",
            "POTTING SHED TEA MUG\n",
            "POTTING SHED TWINE\n",
            "SINGLE HEART ZINC T-LIGHT HOLDER\n",
            "ZINC WILLIE WINKIE  CANDLE STICK\n",
            "HOT BATHS METAL SIGN\n",
            "KITCHEN METAL SIGN\n",
            "20 DOLLY PEGS RETROSPOT\n",
            "SET OF 3 HEART COOKIE CUTTERS\n",
            "SET OF 3 BUTTERFLY COOKIE CUTTERS\n",
            "SET OF 3 NOTEBOOKS IN PARCEL\n",
            "PINK BABY BUNTING\n",
            "BLACK HEART CARD HOLDER\n",
            "HOME GARLAND PAINTED ZINC \n",
            "HERB MARKER BASIL\n",
            "HERB MARKER PARSLEY\n",
            "PINK PARTY BAGS\n",
            "BLUE TEA TOWEL CLASSIC DESIGN\n",
            "EMPIRE DESIGN ROSETTE\n",
            "LARGE CHINESE STYLE SCISSOR\n",
            "SMALL CHINESE STYLE SCISSOR\n",
            "BIRDHOUSE GARDEN MARKER \n",
            "FRENCH BLUE METAL DOOR SIGN 9\n",
            "FRENCH BLUE METAL DOOR SIGN No\n",
            "FRENCH GARDEN SIGN BLUE METAL\n",
            "FRENCH LAUNDRY SIGN BLUE METAL\n",
            "PANTRY PASTRY BRUSH\n",
            "SET OF 6 SPICE TINS PANTRY DESIGN\n",
            "RED RETROSPOT SHOPPER BAG\n",
            "SET 3 RETROSPOT TEA,COFFEE,SUGAR\n",
            "SOAP DISH BROCANTE\n",
            "SINGLE HEART ZINC T-LIGHT HOLDER\n",
            "20 DOLLY PEGS RETROSPOT\n",
            "RECIPE BOX PANTRY YELLOW DESIGN\n",
            "RED RETROSPOT OVEN GLOVE \n",
            "TEA TIME OVEN GLOVE\n",
            "SET OF TEA COFFEE SUGAR TINS PANTRY\n",
            "PENCIL CASE LIFE IS BEAUTIFUL\n",
            "FRENCH PAISLEY CUSHION COVER \n",
            "LARGE CHINESE STYLE SCISSOR\n",
            "SMALL CHINESE STYLE SCISSOR\n",
            "HEART OF WICKER SMALL\n",
            "CUPBOARD 3 DRAWER MA CAMPAGNE\n",
            "FRENCH KITCHEN SIGN BLUE METAL\n",
            "FRENCH BATHROOM SIGN BLUE METAL\n",
            "WHITE WOOD GARDEN PLANT LADDER\n",
            "RECIPE BOX PANTRY YELLOW DESIGN\n",
            "ZINC FOLKART SLEIGH BELLS\n",
            "SET OF 3 WOODEN HEART DECORATIONS\n",
            "SET OF 3 WOODEN SLEIGH DECORATIONS\n",
            "SET OF 3 WOODEN TREE DECORATIONS\n",
            "SET OF 3 WOODEN STOCKING DECORATION\n",
            "FRENCH STYLE EMBOSSED HEART CABINET\n",
            "CHEST 7 DRAWER MA CAMPAGNE\n",
            "PANTRY MAGNETIC  SHOPPING LIST\n",
            "LARGE CHINESE STYLE SCISSOR\n",
            "ZINC T-LIGHT HOLDER STAR LARGE\n",
            "6 RIBBONS RUSTIC CHARM\n",
            "20 DOLLY PEGS RETROSPOT\n",
            "ENAMEL PINK COFFEE CONTAINER\n",
            "HOME GARLAND PAINTED ZINC \n",
            "FRENCH PAISLEY CUSHION COVER \n",
            "FRENCH PAISLEY CUSHION COVER \n",
            "SET OF 6 SPICE TINS PANTRY DESIGN\n",
            "OPEN CLOSED METAL SIGN\n",
            "FRENCH BLUE METAL DOOR SIGN 8\n",
            "SINGLE HEART ZINC T-LIGHT HOLDER\n",
            "ZINC T-LIGHT HOLDER STARS SMALL\n",
            "HEART OF WICKER SMALL\n",
            "HOT BATHS METAL SIGN\n",
            "BATHROOM METAL SIGN\n",
            "VINTAGE RED TRIM ENAMEL BOWL \n",
            "VINTAGE RED ENAMEL TRIM PLATE\n",
            "FRENCH ENAMEL POT W LID\n",
            "FRENCH ENAMEL CANDLEHOLDER\n",
            "NOEL GARLAND PAINTED ZINC \n",
            "FOLKART STAR CHRISTMAS DECORATIONS\n",
            "GREEN GOOSE FEATHER CHRISTMAS TREE \n",
            "VINTAGE  2 METRE FOLDING RULER\n",
            "ZINC WILLIE WINKIE  CANDLE STICK\n",
            "TRAVEL CARD WALLET KEEP CALM\n",
            "POSTE FRANCE CUSHION COVER\n",
            "BELLE JARDINIERE CUSHION COVER\n",
            "LE JARDIN BOTANIQUE CUSHION COVER\n",
            "HOME SWEET HOME CUSHION COVER \n",
            "BLACK TEA TOWEL CLASSIC DESIGN\n",
            "LARGE CHINESE STYLE SCISSOR\n",
            "\n",
            "Suggested Products: \n",
            "Similarity: 99.99551773071289%\t Product: MEDIUM CHINESE STYLE SCISSOR\n",
            "Similarity: 92.73459911346436%\t Product: MEDIUM MEDINA STAMPED METAL BOWL \n",
            "Similarity: 87.09273934364319%\t Product: SANDALWOOD FAN\n",
            "Similarity: 62.33968734741211%\t Product: LARGE MEDINA STAMPED METAL BOWL \n",
            "Similarity: 60.14670133590698%\t Product: WHITE SAGE INCENSE\n",
            "Similarity: 55.111509561538696%\t Product: SMALL MEDINA STAMPED METAL BOWL \n",
            "Similarity: 53.762924671173096%\t Product: VINTAGE RED ENAMEL TRIM MUG \n"
          ],
          "name": "stdout"
        }
      ]
    }
  ]
}